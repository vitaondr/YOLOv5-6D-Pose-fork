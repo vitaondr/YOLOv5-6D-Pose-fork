{
 "cells": [
  {
   "cell_type": "code",
   "execution_count": 5,
   "metadata": {},
   "outputs": [],
   "source": [
    "import os\n",
    "import random"
   ]
  },
  {
   "cell_type": "code",
   "execution_count": null,
   "metadata": {},
   "outputs": [],
   "source": [
    "# Path to the dataset\n",
    "path_to_dataset = r\"path/to/dataset\""
   ]
  },
  {
   "cell_type": "code",
   "execution_count": 3,
   "metadata": {},
   "outputs": [],
   "source": [
    "list_of_images = os.listdir(path_to_dataset) # assuming that every image has a label\n",
    "shuffled_list = random.shuffle(list_of_images) # shuffle the list of images"
   ]
  },
  {
   "cell_type": "code",
   "execution_count": 7,
   "metadata": {},
   "outputs": [],
   "source": [
    "# split the list into 80% train, 10% test and 10% validation # feel free to change the percentages\n",
    "train = list_of_images[:int(len(list_of_images)*0.8)]\n",
    "test = list_of_images[int(len(list_of_images)*0.8):int(len(list_of_images)*0.9)]\n",
    "validation = list_of_images[int(len(list_of_images)*0.9):]\n"
   ]
  },
  {
   "cell_type": "code",
   "execution_count": 8,
   "metadata": {},
   "outputs": [],
   "source": [
    "# write the lists to a file\n",
    "with open(\"train.txt\", \"w\") as f:\n",
    "    for item in train:\n",
    "        f.write(\"%s\\n\" % item)\n",
    "\n",
    "with open(\"test.txt\", \"w\") as f:\n",
    "    for item in test:\n",
    "        f.write(\"%s\\n\" % item)\n",
    "\n",
    "with open(\"validation.txt\", \"w\") as f:\n",
    "    for item in validation:\n",
    "        f.write(\"%s\\n\" % item)"
   ]
  }
 ],
 "metadata": {
  "kernelspec": {
   "display_name": "yolov5",
   "language": "python",
   "name": "python3"
  },
  "language_info": {
   "codemirror_mode": {
    "name": "ipython",
    "version": 3
   },
   "file_extension": ".py",
   "mimetype": "text/x-python",
   "name": "python",
   "nbconvert_exporter": "python",
   "pygments_lexer": "ipython3",
   "version": "3.9.21"
  }
 },
 "nbformat": 4,
 "nbformat_minor": 2
}
