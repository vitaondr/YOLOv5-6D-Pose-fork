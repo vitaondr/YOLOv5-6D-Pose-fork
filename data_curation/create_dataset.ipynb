{
 "cells": [
  {
   "cell_type": "code",
   "execution_count": 1,
   "metadata": {},
   "outputs": [],
   "source": [
    "import sys, os\n",
    "import cv2\n",
    "import numpy as np\n",
    "import pose_utils\n",
    "import json\n",
    "import matplotlib.pyplot as plt\n",
    "from PIL import Image"
   ]
  },
  {
   "cell_type": "markdown",
   "metadata": {},
   "source": [
    "## Update the path to all your data"
   ]
  },
  {
   "cell_type": "code",
   "execution_count": null,
   "metadata": {},
   "outputs": [],
   "source": [
    "# path to 3D model\n",
    "object_path = r\"example\\path\\example_object.ply\"\n",
    "# path to camera intrinsics\n",
    "camera_path = r\"example\\path\\camera_params.json\"\n",
    "# Path to images/video\n",
    "data_path = r\"example\\path\\video.mp4\"\n",
    "# Where to store all the data\n",
    "output_path = r\"example\\path\\output\""
   ]
  },
  {
   "cell_type": "code",
   "execution_count": null,
   "metadata": {},
   "outputs": [],
   "source": [
    "# load 3D model\n",
    "mesh                = pose_utils.MeshPly(object_path)\n",
    "vertices_og         = np.c_[np.array(mesh.vertices)/1000, np.ones((len(mesh.vertices), 1))].transpose() # vertices in object coordinate in meters\n",
    "corners3D           = pose_utils.get_3D_corners(vertices_og)\n",
    "vertices            = np.hstack((np.array([0,0,0,1]).reshape(4,1), corners3D)) # add center coordinate"
   ]
  },
  {
   "cell_type": "code",
   "execution_count": null,
   "metadata": {},
   "outputs": [],
   "source": [
    "# load camera params\n",
    "with open(camera_path, 'r') as f:\n",
    "    camera_data = json.load(f)\n",
    "\n",
    "# camera_model = None\n",
    "dtx = np.array(camera_data[\"distortion\"])\n",
    "mtx = np.array(camera_data[\"intrinsic\"])"
   ]
  },
  {
   "cell_type": "markdown",
   "metadata": {},
   "source": [
    "### Set the offset from the charuco frame to the center of your object.\n",
    "* Carefully measure the offset from the top left corner of your charuco board to the center of your object. The more accurate, the better"
   ]
  },
  {
   "cell_type": "code",
   "execution_count": null,
   "metadata": {},
   "outputs": [],
   "source": [
    "# Predefined offset from charuco frame to object frame\n",
    "rotation_offset = [90.0, 0.0, 0.0] # degrees\n",
    "translation_offset = [0.22, 0.1485, -0.04075] # translation in meters #  [0.221, 0.14075, -0.0485 ]\n",
    "\n",
    "offset_mat = pose_utils.construct_transform(translation_offset, rotation_offset)"
   ]
  },
  {
   "cell_type": "markdown",
   "metadata": {},
   "source": [
    "### Steps to acquire object pose and save labels\n",
    "\n",
    "1. Run through all images \n",
    "2. Detect charuco pose\n",
    "3. Determine offset from charuco pose to object pose (in charuco frame coordinates)\n",
    "4. Project object onto image\n",
    "5. Draw projected object and calculate mask\n",
    "6. Store all information"
   ]
  },
  {
   "cell_type": "code",
   "execution_count": null,
   "metadata": {},
   "outputs": [],
   "source": [
    "# 1. Run through video\n",
    "cap = cv2.VideoCapture(data_path)\n",
    "frame_count = 0\n",
    "\n",
    "while(cap.isOpened()):\n",
    "\n",
    "    ret, frame = cap.read()\n",
    "    if not ret:\n",
    "        break\n",
    "\n",
    "    print(f\"Frame {frame_count}\")\n",
    "    # 2. detect charuco pose\n",
    "    frame_remapped_gray = frame[:, :, 0]\n",
    "    im_height, im_width = frame_remapped_gray.shape\n",
    "    # print(frame.shape)\n",
    "    im_with_charuco_board, pose = pose_utils.detect_Charuco_pose_board(frame, mtx, dtx) # update based on your own charuco board layout\n",
    "    if pose != None:\n",
    "        \n",
    "        # 3. determine offset from charuco pose to object pose (in charuco frame coordinates)\n",
    "        rvec = pose['rvec']\n",
    "        tvec = pose['tvec']\n",
    "        rotation = cv2.Rodrigues(rvec)[0]\n",
    "        transform_mat = np.vstack((np.hstack((rotation, tvec)), np.array([0, 0, 0, 1])))\n",
    "        transform_mat = np.matmul(transform_mat, offset_mat)\n",
    "        # 4. project object onto image\n",
    "        projected_corners = pose_utils.compute_projection(corners3D, transform_mat[:3, :], mtx)\n",
    "        projected_vertices = pose_utils.compute_projection(vertices, transform_mat[:3, :], mtx)\n",
    "        # 5. Draw projected object\n",
    "        im_with_charuco_board = pose_utils.draw_BBox(im_with_charuco_board, projected_corners.T, projected_vertices.T)\n",
    "        # Create mask\n",
    "        mask_arr = pose_utils.create_simple_mask(projected_vertices.T, im_width, im_height)\n",
    "        # Create label\n",
    "        label = pose_utils.create_label(0, projected_vertices, mtx[0,0],  mtx[1,1] , im_width, im_height, mtx[0,2], mtx[1,2], im_width, im_height, transform_mat)\n",
    "        imageName = f\"frame_{frame_count}.png\"\n",
    "        # 6. store all information\n",
    "        pose_utils.save_data(frame, mask_arr, label, imageName, output_path, im_with_charuco_board )\n",
    "\n",
    "    frame_count += 1"
   ]
  },
  {
   "cell_type": "markdown",
   "metadata": {},
   "source": [
    "# Sanity Check\n",
    "\n",
    "After creating your dataset, it is always good to run a sanity check"
   ]
  },
  {
   "cell_type": "code",
   "execution_count": null,
   "metadata": {},
   "outputs": [],
   "source": [
    "## Here a couple fo functions to help you visualize the data\n",
    "\n",
    "# Load first image from data\n",
    "img_path = os.path.join(output_path, \"images\")\n",
    "label_path = os.path.join(output_path, \"labels\")\n",
    "mask_path = os.path.join(output_path, \"mask\")\n",
    "\n",
    "for file in os.listdir(img_path):\n",
    "    if file.endswith(\".png\"):\n",
    "        assert os.path.isfile(os.path.join(label_path, file[:-4] + \".txt\")), f\"Label file {file[:-4] + '.txt'} does not exist\"\n",
    "        assert os.path.isfile(os.path.join(mask_path, file)), f\"Mask file {file} does not exist\"\n",
    "\n",
    "        # Load image, label and mask\n",
    "        img = cv2.imread(os.path.join(img_path, file))\n",
    "        label = np.loadtxt(os.path.join(label_path, file[:-4] + \".txt\"))\n",
    "        mask = cv2.imread(os.path.join(mask_path, file))\n",
    "        break\n",
    "\n",
    "keypoints = label[1:19]\n",
    "keypoints_x = keypoints[::2]*img.shape[1]\n",
    "keypoints_y = keypoints[1::2]*img.shape[0]\n",
    "\n",
    "\n",
    "# create figure and axes\n",
    "fig,ax = plt.subplots(1)\n",
    "# display the image\n",
    "ax.imshow(img)\n",
    "# scatter points\n",
    "ax.scatter(keypoints_x, keypoints_y, s=10, c='red', marker='o')\n",
    "plt.show()"
   ]
  },
  {
   "cell_type": "code",
   "execution_count": null,
   "metadata": {},
   "outputs": [],
   "source": []
  }
 ],
 "metadata": {
  "kernelspec": {
   "display_name": "yolov5",
   "language": "python",
   "name": "python3"
  },
  "language_info": {
   "codemirror_mode": {
    "name": "ipython",
    "version": 3
   },
   "file_extension": ".py",
   "mimetype": "text/x-python",
   "name": "python",
   "nbconvert_exporter": "python",
   "pygments_lexer": "ipython3",
   "version": "3.9.21"
  }
 },
 "nbformat": 4,
 "nbformat_minor": 2
}
